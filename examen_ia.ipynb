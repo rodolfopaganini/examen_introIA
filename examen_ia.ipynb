{
 "cells": [
  {
   "cell_type": "code",
   "execution_count": 18,
   "metadata": {},
   "outputs": [],
   "source": [
    "import numpy as np\n",
    "import csv\n",
    "import matplotlib.pyplot as plt"
   ]
  },
  {
   "cell_type": "code",
   "execution_count": 16,
   "metadata": {},
   "outputs": [
    {
     "name": "stdout",
     "output_type": "stream",
     "text": [
      "(500, 2)\n"
     ]
    }
   ],
   "source": [
    "# 2b\n",
    "data = np.genfromtxt('clase_8_dataset.csv', delimiter=',')\n",
    "print(data.shape)"
   ]
  },
  {
   "cell_type": "code",
   "execution_count": 22,
   "metadata": {},
   "outputs": [
    {
     "data": {
      "text/plain": [
       "<matplotlib.collections.PathCollection at 0x1eac0b11390>"
      ]
     },
     "execution_count": 22,
     "metadata": {},
     "output_type": "execute_result"
    },
    {
     "data": {
      "image/png": "[encoded data removed]",
      "text/plain": [
       "<Figure size 432x288 with 1 Axes>"
      ]
     },
     "metadata": {
      "needs_background": "light"
     },
     "output_type": "display_data"
    }
   ],
   "source": [
    "# 2c\n",
    "plt.scatter(data[:, 0], data[:, 1])"
   ]
  },
  {
   "cell_type": "code",
   "execution_count": 24,
   "metadata": {},
   "outputs": [
    {
     "name": "stdout",
     "output_type": "stream",
     "text": [
      "(400, 2) (100, 2)\n"
     ]
    }
   ],
   "source": [
    "# 2d\n",
    "\n",
    "def split_dataset(dataset, train=70, validate=20):\n",
    "    \"\"\"\n",
    "    This function splits a dataset into training, validation and testing\n",
    "    \n",
    "    :param dataset: the dataset to be split\n",
    "    :param train: the percentage of the samples to be used for training, expressed as percentage\n",
    "    :param validate: the percentage of the samples to be used for validation, expressed as percentage.\n",
    "        The remaining of training and validation is used for testing\n",
    "    :return:\n",
    "        - Training set\n",
    "        - Validation set\n",
    "        - Testing set (might be empty)\n",
    "    \"\"\"\n",
    "    \n",
    "    # Validate input and calculate testing percentage\n",
    "    if train >= 100:\n",
    "        return None\n",
    "    if train + validate > 100:\n",
    "        validate = 100 - train\n",
    "    test = 100 - train - validate\n",
    "    \n",
    "    # Get the indexes for splitting the dataset\n",
    "    n_elements = dataset.shape[0]\n",
    "    train_lim = int(n_elements * train / 100)\n",
    "    validate_lim = int(n_elements * (train + validate) / 100)\n",
    "    \n",
    "    # Permutate and split the dataset and return it\n",
    "    dataset = np.random.permutation(dataset)\n",
    "    return(dataset[:train_lim], dataset[train_lim:validate_lim], dataset[validate_lim:])\n",
    "\n",
    "train, test, _ = split_dataset(data, train=80, validate=20)\n",
    "print(train.shape, test.shape)"
   ]
  },
  {
   "cell_type": "code",
   "execution_count": 39,
   "metadata": {},
   "outputs": [
    {
     "name": "stdout",
     "output_type": "stream",
     "text": [
      "861.7029363659258\n"
     ]
    },
    {
     "data": {
      "image/png": "[encoded data removed]",
      "text/plain": [
       "<Figure size 432x288 with 1 Axes>"
      ]
     },
     "metadata": {
      "needs_background": "light"
     },
     "output_type": "display_data"
    }
   ],
   "source": [
    "# 3a\n",
    "\n",
    "def poly_regression_closed(X, y, orden):\n",
    "    # Calculo los arrays con las potencias de X que son necesarias para la regresión polinómica\n",
    "    X_pow = np.empty((X.shape[0], orden + 1))\n",
    "    X_pow[:, 0] = 1\n",
    "    X_pow[:, 1] = X\n",
    "    for i in range(2, orden + 1):\n",
    "        X_pow[:, i] = X ** i\n",
    "\n",
    "    # Calculo los coeficientes del polinomio y los devuelvo\n",
    "    return np.matmul(np.matmul(np.linalg.inv(np.matmul(X_pow.T, X_pow)), X_pow.T), y)\n",
    "\n",
    "def predict(coeffs, value):\n",
    "    # Predice el valor del modelo para los coeficientes dados y la abscisa dada\n",
    "    return sum([c * value ** j for j, c in enumerate(coeffs)])\n",
    "\n",
    "def plot_line(coeffs, min_range=-400, max_range=400, step=1):\n",
    "    # Plotea una linea con las predicciones para el rango establecido\n",
    "    linea = []\n",
    "    for i in range(min_range, max_range, step):\n",
    "        linea.append(predict(coeffs, i))\n",
    "    plt.plot(range(min_range, max_range, step), linea, 'r')\n",
    "    plt.scatter(data[:, 0], data[:, 1])\n",
    "\n",
    "def mse(truth, prediction):\n",
    "        return np.mean((truth - prediction) ** 2)\n",
    "    \n",
    "def k_folds(\n",
    "        X_train,\n",
    "        y_train,\n",
    "        k=5,\n",
    "        fit_method=poly_regression_closed,\n",
    "        param_fit=1,\n",
    "        predict_method=predict,\n",
    "        error_method=mse\n",
    "):\n",
    "    chunk_size = int(len(X_train) / k)\n",
    "    mse_list = []\n",
    "    for i in range(0, len(X_train), chunk_size):\n",
    "        end = i + chunk_size if i + chunk_size <= len(X_train) else len(X_train)\n",
    "        new_X_valid = X_train[i: end]\n",
    "        new_y_valid = y_train[i: end]\n",
    "        new_X_train = np.concatenate([X_train[: i], X_train[end:]])\n",
    "        new_y_train = np.concatenate([y_train[: i], y_train[end:]])\n",
    "\n",
    "        coeffs = fit_method(new_X_train, new_y_train, param_fit)\n",
    "        prediction = predict_method(coeffs, new_X_valid)\n",
    "        mse_list.append(error_method(new_y_valid, prediction))\n",
    "\n",
    "    mean_MSE = np.mean(mse_list)\n",
    "    return mean_MSE\n",
    "    \n",
    "# Separo la entrada de la salida\n",
    "X = train[:, 0]\n",
    "y = train[:, 1]\n",
    "\n",
    "# Mostrar el MSE promedio\n",
    "print(k_folds(X, y))\n",
    "\n",
    "# Mostrar la gráfica de la predicción\n",
    "coeffs = poly_regression_closed(X, y, 1)\n",
    "plot_line(coeffs)"
   ]
  },
  {
   "cell_type": "code",
   "execution_count": 43,
   "metadata": {},
   "outputs": [
    {
     "data": {
      "text/plain": [
       "[<matplotlib.lines.Line2D at 0x1eac2845f98>]"
      ]
     },
     "execution_count": 43,
     "metadata": {},
     "output_type": "execute_result"
    },
    {
     "data": {
      "image/png": "[encoded data removed]",
      "text/plain": [
       "<Figure size 432x288 with 1 Axes>"
      ]
     },
     "metadata": {
      "needs_background": "light"
     },
     "output_type": "display_data"
    }
   ],
   "source": [
    "# 3b\n",
    "cost = [861.7]  # Lo inicio con el peso del inciso anterior\n",
    "for i in range(2, 5):\n",
    "    cost.append(k_folds(X, y, param_fit=i))\n",
    "    \n",
    "plt.plot(range(1, 5), cost)"
   ]
  },
  {
   "cell_type": "markdown",
   "metadata": {},
   "source": [
    "3c\n",
    "\n",
    "A juzgar por el gráfico anterior parecería tener sentido usar el polinomio de orden 3, dado que el de orden 4 no presenta mejoras apreciables respecto a la reducción del costo y tendría mayores chances de presentar overfitting. Si el de orden 3 tuviera overfitting, el de orden 2 parece una buena alternativa también."
   ]
  },
  {
   "cell_type": "code",
   "execution_count": 48,
   "metadata": {},
   "outputs": [
    {
     "data": {
      "image/png": "[encoded data removed]",
      "text/plain": [
       "<Figure size 432x288 with 1 Axes>"
      ]
     },
     "metadata": {
      "needs_background": "light"
     },
     "output_type": "display_data"
    }
   ],
   "source": [
    "# 3d\n",
    "\n",
    "# Mostramos la aproximación polinómica de orden 3 junto con la nube de puntos\n",
    "coeffs = poly_regression_closed(X, y, 3)\n",
    "plot_line(coeffs)\n"
   ]
  },
  {
   "cell_type": "markdown",
   "metadata": {},
   "source": [
    "La gráfica anterior parece confirmar que la elección del polinomio de orden 3 es acertada."
   ]
  },
  {
   "cell_type": "code",
   "execution_count": 68,
   "metadata": {},
   "outputs": [
    {
     "ename": "ValueError",
     "evalue": "could not broadcast input array from shape (25,1) into shape (25)",
     "output_type": "error",
     "traceback": [
      "\u001b[1;31m---------------------------------------------------------------------------\u001b[0m",
      "\u001b[1;31mValueError\u001b[0m                                Traceback (most recent call last)",
      "\u001b[1;32m<ipython-input-68-0f316a573adb>\u001b[0m in \u001b[0;36m<module>\u001b[1;34m\u001b[0m\n\u001b[0;32m     64\u001b[0m     \u001b[1;32mreturn\u001b[0m \u001b[0mW\u001b[0m\u001b[1;33m\u001b[0m\u001b[1;33m\u001b[0m\u001b[0m\n\u001b[0;32m     65\u001b[0m \u001b[1;33m\u001b[0m\u001b[0m\n\u001b[1;32m---> 66\u001b[1;33m \u001b[0mprint\u001b[0m\u001b[1;33m(\u001b[0m\u001b[0mmini_batch_gradient_descent\u001b[0m\u001b[1;33m(\u001b[0m\u001b[0mX\u001b[0m\u001b[1;33m,\u001b[0m \u001b[0my\u001b[0m\u001b[1;33m)\u001b[0m\u001b[1;33m)\u001b[0m\u001b[1;33m\u001b[0m\u001b[1;33m\u001b[0m\u001b[0m\n\u001b[0m",
      "\u001b[1;32m<ipython-input-68-0f316a573adb>\u001b[0m in \u001b[0;36mmini_batch_gradient_descent\u001b[1;34m(X_train, y_train, lr, amt_epochs, b)\u001b[0m\n\u001b[0;32m     40\u001b[0m \u001b[1;33m\u001b[0m\u001b[0m\n\u001b[0;32m     41\u001b[0m             \u001b[1;31m# Calculate the prediction for the whole batch\u001b[0m\u001b[1;33m\u001b[0m\u001b[1;33m\u001b[0m\u001b[1;33m\u001b[0m\u001b[0m\n\u001b[1;32m---> 42\u001b[1;33m             \u001b[0mW\u001b[0m \u001b[1;33m=\u001b[0m \u001b[0mpoly_regression_closed\u001b[0m\u001b[1;33m(\u001b[0m\u001b[0mbatch_X\u001b[0m\u001b[1;33m,\u001b[0m \u001b[0mbatch_y\u001b[0m\u001b[1;33m,\u001b[0m \u001b[1;36m3\u001b[0m\u001b[1;33m)\u001b[0m\u001b[1;33m\u001b[0m\u001b[1;33m\u001b[0m\u001b[0m\n\u001b[0m\u001b[0;32m     43\u001b[0m             \u001b[0mprediction\u001b[0m \u001b[1;33m=\u001b[0m \u001b[0mpredict_array\u001b[0m\u001b[1;33m(\u001b[0m\u001b[0mW\u001b[0m\u001b[1;33m,\u001b[0m \u001b[0mbatch_X\u001b[0m\u001b[1;33m)\u001b[0m\u001b[1;33m\u001b[0m\u001b[1;33m\u001b[0m\u001b[0m\n\u001b[0;32m     44\u001b[0m \u001b[1;33m\u001b[0m\u001b[0m\n",
      "\u001b[1;32m<ipython-input-39-79b7a0cc7644>\u001b[0m in \u001b[0;36mpoly_regression_closed\u001b[1;34m(X, y, orden)\u001b[0m\n\u001b[0;32m      5\u001b[0m     \u001b[0mX_pow\u001b[0m \u001b[1;33m=\u001b[0m \u001b[0mnp\u001b[0m\u001b[1;33m.\u001b[0m\u001b[0mempty\u001b[0m\u001b[1;33m(\u001b[0m\u001b[1;33m(\u001b[0m\u001b[0mX\u001b[0m\u001b[1;33m.\u001b[0m\u001b[0mshape\u001b[0m\u001b[1;33m[\u001b[0m\u001b[1;36m0\u001b[0m\u001b[1;33m]\u001b[0m\u001b[1;33m,\u001b[0m \u001b[0morden\u001b[0m \u001b[1;33m+\u001b[0m \u001b[1;36m1\u001b[0m\u001b[1;33m)\u001b[0m\u001b[1;33m)\u001b[0m\u001b[1;33m\u001b[0m\u001b[1;33m\u001b[0m\u001b[0m\n\u001b[0;32m      6\u001b[0m     \u001b[0mX_pow\u001b[0m\u001b[1;33m[\u001b[0m\u001b[1;33m:\u001b[0m\u001b[1;33m,\u001b[0m \u001b[1;36m0\u001b[0m\u001b[1;33m]\u001b[0m \u001b[1;33m=\u001b[0m \u001b[1;36m1\u001b[0m\u001b[1;33m\u001b[0m\u001b[1;33m\u001b[0m\u001b[0m\n\u001b[1;32m----> 7\u001b[1;33m     \u001b[0mX_pow\u001b[0m\u001b[1;33m[\u001b[0m\u001b[1;33m:\u001b[0m\u001b[1;33m,\u001b[0m \u001b[1;36m1\u001b[0m\u001b[1;33m]\u001b[0m \u001b[1;33m=\u001b[0m \u001b[0mX\u001b[0m\u001b[1;33m\u001b[0m\u001b[1;33m\u001b[0m\u001b[0m\n\u001b[0m\u001b[0;32m      8\u001b[0m     \u001b[1;32mfor\u001b[0m \u001b[0mi\u001b[0m \u001b[1;32min\u001b[0m \u001b[0mrange\u001b[0m\u001b[1;33m(\u001b[0m\u001b[1;36m2\u001b[0m\u001b[1;33m,\u001b[0m \u001b[0morden\u001b[0m \u001b[1;33m+\u001b[0m \u001b[1;36m1\u001b[0m\u001b[1;33m)\u001b[0m\u001b[1;33m:\u001b[0m\u001b[1;33m\u001b[0m\u001b[1;33m\u001b[0m\u001b[0m\n\u001b[0;32m      9\u001b[0m         \u001b[0mX_pow\u001b[0m\u001b[1;33m[\u001b[0m\u001b[1;33m:\u001b[0m\u001b[1;33m,\u001b[0m \u001b[0mi\u001b[0m\u001b[1;33m]\u001b[0m \u001b[1;33m=\u001b[0m \u001b[0mX\u001b[0m \u001b[1;33m**\u001b[0m \u001b[0mi\u001b[0m\u001b[1;33m\u001b[0m\u001b[1;33m\u001b[0m\u001b[0m\n",
      "\u001b[1;31mValueError\u001b[0m: could not broadcast input array from shape (25,1) into shape (25)"
     ]
    }
   ],
   "source": [
    "def predict_array(coeffs, values):\n",
    "    # Predice el valor del modelo para los coeficientes dados y las abscisas dadas\n",
    "    return np.sum([c * values ** j for j, c in enumerate(coeffs)], axis=1)\n",
    "\n",
    "def mini_batch_gradient_descent(X_train, y_train, lr=0.01, amt_epochs=1, b=16):\n",
    "    \n",
    "    \"\"\"\n",
    "    shapes:\n",
    "        X_train = nx1\n",
    "        y_train = nx1\n",
    "        W = mx1\n",
    "    \"\"\"\n",
    "    \n",
    "    X_train = X_train.reshape((len(X_train), 1))\n",
    "    y_train = y_train.reshape((len(y_train), 1))\n",
    "    \n",
    "    n = X_train.shape[0]\n",
    "    m = 3\n",
    "\n",
    "    # initialize random weights\n",
    "    W = np.random.randn(m).reshape(m, 1)\n",
    "\n",
    "    # iterate over the n_epochs\n",
    "    for i in range(amt_epochs):\n",
    "        \n",
    "        # Shuffle all the samples \n",
    "        idx = np.random.permutation(X_train.shape[0])\n",
    "        X_train = X_train[idx]\n",
    "        y_train = y_train[idx]\n",
    "\n",
    "        # Calculate the batch size in samples as a function of the number of batches\n",
    "        batch_size = int(len(X_train) / b)\n",
    " \n",
    "        # Iterate over the batches\n",
    "        for i in range(0, len(X_train), batch_size):\n",
    "            \n",
    "            end = i + batch_size if i + batch_size <= len(X_train) else len(X_train)\n",
    "            batch_X = X_train[i: end] # batch_size*1\n",
    "            batch_y = y_train[i: end] # batch_size*1\n",
    "\n",
    "            # Calculate the prediction for the whole batch\n",
    "            W = poly_regression_closed(batch_X, batch_y, 3)\n",
    "            prediction = predict_array(W, batch_X)\n",
    "            \n",
    "            # Calculate the error for the whole batch\n",
    "            error = mse(batch_y, prediction)  # batch_sizex1\n",
    "\n",
    "            # Calculate the gradient for the batch\n",
    "            \n",
    "            # error[batch_sizex1]*batch_X[batch_size*m]--> broadcasting --> batch_size*m\n",
    "            print(batch_X.shape)\n",
    "            grad_sum = np.sum(error * batch_X, axis=0) # 1xm\n",
    "            print(grad_sum.shape)\n",
    "            grad_mul = -2/batch_size * grad_sum  # 1xm\n",
    "            gradient = np.transpose(grad_mul)  # mx1\n",
    "            \n",
    "            # Update the weights\n",
    "            W = W - (lr * gradient)\n",
    "\n",
    "        # Print values per epoch\n",
    "        print('Train error: ', error)\n",
    "        print('Validation error: ', mse(test[:, 1], predict_array(W, test[:, 0])))\n",
    "            \n",
    "    return W\n",
    "\n",
    "print(mini_batch_gradient_descent(X, y))"
   ]
  }
 ],
 "metadata": {
  "kernelspec": {
   "display_name": "Python 3",
   "language": "python",
   "name": "python3"
  },
  "language_info": {
   "codemirror_mode": {
    "name": "ipython",
    "version": 3
   },
   "file_extension": ".py",
   "mimetype": "text/x-python",
   "name": "python",
   "nbconvert_exporter": "python",
   "pygments_lexer": "ipython3",
   "version": "3.7.3"
  }
 },
 "nbformat": 4,
 "nbformat_minor": 2
}
